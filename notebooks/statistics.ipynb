{
 "cells": [
  {
   "cell_type": "code",
   "execution_count": null,
   "metadata": {},
   "outputs": [],
   "source": [
    "import osmnx as ox\n",
    "import networkx as nx\n",
    "import pandas as pd\n",
    "import geopandas as gpd\n",
    "\n",
    "from web_analytics import Schedules\n",
    "from web_analytics.utils import merge_schedules, add_times_from_center, add_travel_times"
   ]
  },
  {
   "cell_type": "code",
   "execution_count": null,
   "metadata": {},
   "outputs": [],
   "source": [
    "CENTER_POINT = (-3.70331, 40.41688)\n",
    "TRAVEL_SPEED = 4.5\n",
    "\n",
    "DISTRICTS = [\n",
    "    \"Centro\",\n",
    "    \"Arganzuela\",\n",
    "    \"Retiro\",\n",
    "    \"Salamanca\",\n",
    "    \"Chamartín\",\n",
    "    \"Tetuán\",\n",
    "    \"Chamberí\",\n",
    "    \"Fuencarral-El Pardo\",\n",
    "    \"Moncloa-Aravaca\",\n",
    "    \"Latina\",\n",
    "    \"Carabanchel\",\n",
    "    \"Usera\",\n",
    "    \"Puente de Vallecas\",\n",
    "    \"Moratalaz\",\n",
    "    \"Ciudad Lineal\",\n",
    "    \"Hortaleza\",\n",
    "    \"Villaverde\",\n",
    "    \"Villa de Vallecas\",\n",
    "    \"Vicálvaro\",\n",
    "    \"San Blas - Canillejas\",\n",
    "    \"Barajas\",\n",
    "]"
   ]
  },
  {
   "cell_type": "code",
   "execution_count": null,
   "metadata": {},
   "outputs": [],
   "source": [
    "city_graph = ox.graph_from_place(\"Madrid, Spain\", network_type=\"walk\")\n",
    "district_graphs_raw = {name: ox.graph_from_place(f\"{name}, Madrid, Spain\") for name in DISTRICTS}"
   ]
  },
  {
   "cell_type": "code",
   "execution_count": null,
   "metadata": {},
   "outputs": [],
   "source": [
    "district_boundaries: gpd.GeoDataFrame = ox.features_from_place(\n",
    "    \"Madrid, Spain\", {\"boundary\": \"administrative\", \"admin_level\": \"9\"}\n",
    ")\n",
    "district_boundaries = district_boundaries[\n",
    "    (district_boundaries[\"admin_level\"] == \"9\") & district_boundaries[\"name\"].isin(DISTRICTS)\n",
    "].reset_index(drop=True)"
   ]
  },
  {
   "cell_type": "code",
   "execution_count": null,
   "metadata": {},
   "outputs": [],
   "source": [
    "add_travel_times(city_graph, TRAVEL_SPEED)\n",
    "\n",
    "schedules = Schedules()\n",
    "merge_schedules(city_graph, nx.MultiDiGraph(nx.union_all(schedules.get_all_trip_graphs().values())))"
   ]
  },
  {
   "cell_type": "code",
   "execution_count": null,
   "metadata": {},
   "outputs": [],
   "source": [
    "center_node = ox.nearest_nodes(city_graph, CENTER_POINT[0], CENTER_POINT[1])\n",
    "\n",
    "# sanity check\n",
    "(\n",
    "    city_graph.nodes[center_node][\"y\"] - CENTER_POINT[1],\n",
    "    city_graph.nodes[center_node][\"x\"] - CENTER_POINT[0],\n",
    ")"
   ]
  },
  {
   "cell_type": "code",
   "execution_count": null,
   "metadata": {},
   "outputs": [],
   "source": [
    "add_times_from_center(city_graph, center_node, weight=\"time\", dest=\"time_from_center\")\n",
    "add_times_from_center(city_graph, center_node, weight=\"length\", dest=\"distance_from_center\")"
   ]
  },
  {
   "cell_type": "code",
   "execution_count": null,
   "metadata": {},
   "outputs": [],
   "source": [
    "def intersection(a: nx.Graph, b: nx.Graph):\n",
    "    a_copy = a.copy()\n",
    "    a_copy.remove_nodes_from(n for n in a if n not in b)\n",
    "    a_copy.remove_edges_from(e for e in a.edges if e not in b.edges)\n",
    "    return a_copy\n",
    "\n",
    "\n",
    "district_graphs = {\n",
    "    name: intersection(city_graph, graph) for name, graph in district_graphs_raw.items()\n",
    "}"
   ]
  },
  {
   "cell_type": "markdown",
   "metadata": {},
   "source": [
    "## Average travel times to center by district"
   ]
  },
  {
   "cell_type": "code",
   "execution_count": null,
   "metadata": {},
   "outputs": [],
   "source": [
    "avg_travel_times = pd.DataFrame(\n",
    "    {\n",
    "        \"District\": name,\n",
    "        \"Time to center\": sum(time for _, time in graph.nodes(data=\"time_from_center\"))\n",
    "        / len(graph),\n",
    "    }\n",
    "    for name, graph in district_graphs.items()\n",
    ")\n",
    "avg_travel_times.sort_values(\"Time to center\", inplace=True)\n",
    "avg_travel_times.reset_index(drop=True, inplace=True)\n",
    "\n",
    "avg_travel_times"
   ]
  },
  {
   "cell_type": "code",
   "execution_count": null,
   "metadata": {},
   "outputs": [],
   "source": [
    "avg_times_geo = district_boundaries.merge(\n",
    "    right=avg_travel_times, left_on=\"name\", right_on=\"District\"\n",
    ")\n",
    "avg_times_geo.explore(column=\"Time to center\", cmap=\"plasma_r\", tooltip=[\"name\", \"Time to center\"])"
   ]
  },
  {
   "cell_type": "markdown",
   "metadata": {},
   "source": [
    "## Distance / Time ratio by district"
   ]
  },
  {
   "cell_type": "code",
   "execution_count": null,
   "metadata": {},
   "outputs": [],
   "source": [
    "distance_time_ratios = pd.DataFrame(\n",
    "    {\n",
    "        \"District\": name,\n",
    "        \"Distance / Time\": sum(\n",
    "            data[\"distance_from_center\"] / data[\"time_from_center\"]\n",
    "            for node, data in graph.nodes(data=True)\n",
    "            if node != center_node\n",
    "        )\n",
    "        / len(graph),\n",
    "    }\n",
    "    for name, graph in district_graphs.items()\n",
    ")\n",
    "distance_time_ratios.sort_values(\"Distance / Time\", inplace=True)\n",
    "distance_time_ratios.reset_index(drop=True, inplace=True)\n",
    "\n",
    "distance_time_ratios"
   ]
  },
  {
   "cell_type": "code",
   "execution_count": null,
   "metadata": {},
   "outputs": [],
   "source": [
    "ratios_geo = district_boundaries.merge(\n",
    "    right=distance_time_ratios, left_on=\"name\", right_on=\"District\"\n",
    ")\n",
    "ratios_geo.explore(column=\"Distance / Time\", cmap=\"plasma\", tooltip=[\"name\", \"Distance / Time\"])"
   ]
  }
 ],
 "metadata": {
  "kernelspec": {
   "display_name": ".venv",
   "language": "python",
   "name": "python3"
  },
  "language_info": {
   "codemirror_mode": {
    "name": "ipython",
    "version": 3
   },
   "file_extension": ".py",
   "mimetype": "text/x-python",
   "name": "python",
   "nbconvert_exporter": "python",
   "pygments_lexer": "ipython3",
   "version": "3.11.6"
  }
 },
 "nbformat": 4,
 "nbformat_minor": 2
}
