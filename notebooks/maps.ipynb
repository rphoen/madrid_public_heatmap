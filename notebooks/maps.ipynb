{
 "cells": [
  {
   "cell_type": "code",
   "execution_count": null,
   "metadata": {},
   "outputs": [],
   "source": [
    "import matplotlib.pyplot as plt\n",
    "import networkx as nx\n",
    "import osmnx as ox\n",
    "from pyproj import CRS, Transformer\n",
    "\n",
    "from web_analytics import Schedules, make_isochrones\n",
    "from web_analytics.utils import add_travel_times, merge_schedules"
   ]
  },
  {
   "cell_type": "code",
   "execution_count": null,
   "metadata": {},
   "outputs": [],
   "source": [
    "place = \"Madrid, Spain\"\n",
    "center_point = (-3.70331, 40.41688)  # lon, lat (EPSG 4326)\n",
    "trip_times = [5, 10, 15, 30, 60, 90]  # min\n",
    "travel_speed = 4.5  # km/h"
   ]
  },
  {
   "cell_type": "code",
   "execution_count": null,
   "metadata": {},
   "outputs": [],
   "source": [
    "G = ox.graph_from_place(place, network_type=\"walk\")\n",
    "G = ox.project_graph(G)\n",
    "add_travel_times(G, travel_speed)"
   ]
  },
  {
   "cell_type": "code",
   "execution_count": null,
   "metadata": {},
   "outputs": [],
   "source": [
    "schedules = Schedules()\n",
    "merge_schedules(G, nx.MultiDiGraph(nx.union_all(schedules.get_all_trip_graphs().values())))"
   ]
  },
  {
   "cell_type": "code",
   "execution_count": null,
   "metadata": {},
   "outputs": [],
   "source": [
    "transformer = Transformer.from_crs(CRS.from_epsg(4326), G.graph[\"crs\"], always_xy=True)\n",
    "center_point_proj = transformer.transform(*center_point)\n",
    "center_node = ox.nearest_nodes(G, center_point_proj[0], center_point_proj[1])"
   ]
  },
  {
   "cell_type": "code",
   "execution_count": null,
   "metadata": {},
   "outputs": [],
   "source": [
    "isochrone_gdf = make_isochrones(G, trip_times, [center_node])"
   ]
  },
  {
   "cell_type": "code",
   "execution_count": null,
   "metadata": {},
   "outputs": [],
   "source": [
    "fig, ax = ox.plot_graph(\n",
    "    G, show=False, close=False, edge_color=\"#999999\", edge_alpha=0.2, node_size=0\n",
    ")\n",
    "isochrone_gdf.plot(\n",
    "    ax=ax, column=\"trip_time\", cmap=\"plasma_r\", categorical=True, ec=\"none\", alpha=0.6, zorder=-1\n",
    ")\n",
    "plt.show()"
   ]
  },
  {
   "cell_type": "code",
   "execution_count": null,
   "metadata": {},
   "outputs": [],
   "source": [
    "gdf_explore = isochrone_gdf.copy()\n",
    "gdf_explore.sort_values(\"trip_time\", inplace=True)\n",
    "gdf_explore.reset_index(drop=True, inplace=True)\n",
    "gdf_explore[\"geom_diff\"] = None\n",
    "gdf_explore.at[0, \"geom_diff\"] = gdf_explore.at[0, \"geometry\"]\n",
    "\n",
    "for index in range(1, len(gdf_explore)):\n",
    "    gdf_explore.at[index, \"geom_diff\"] = gdf_explore.at[index, \"geometry\"].difference(\n",
    "        gdf_explore.at[index - 1, \"geometry\"]\n",
    "    )\n",
    "\n",
    "gdf_explore[\"geometry\"] = gdf_explore[\"geom_diff\"]\n",
    "gdf_explore.drop(\"geom_diff\", axis=1, inplace=True)"
   ]
  },
  {
   "cell_type": "code",
   "execution_count": null,
   "metadata": {},
   "outputs": [],
   "source": [
    "gdf_explore.explore(column=\"trip_time\", cmap=\"plasma_r\", categorical=True)"
   ]
  }
 ],
 "metadata": {
  "kernelspec": {
   "display_name": "Python 3 (ipykernel)",
   "language": "python",
   "name": "python3"
  },
  "language_info": {
   "codemirror_mode": {
    "name": "ipython",
    "version": 3
   },
   "file_extension": ".py",
   "mimetype": "text/x-python",
   "name": "python",
   "nbconvert_exporter": "python",
   "pygments_lexer": "ipython3",
   "version": "3.11.6"
  }
 },
 "nbformat": 4,
 "nbformat_minor": 4
}
